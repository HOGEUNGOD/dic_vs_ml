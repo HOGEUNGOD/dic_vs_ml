{
 "cells": [
  {
   "cell_type": "code",
   "execution_count": 10,
   "metadata": {
    "collapsed": true,
    "pycharm": {
     "name": "#%%\n"
    }
   },
   "outputs": [
    {
     "name": "stdout",
     "output_type": "stream",
     "text": [
      "EVENT_LBUTTONUP: 433, 382\n"
     ]
    }
   ],
   "source": [
    "import glob\n",
    "import numpy as np\n",
    "import matplotlib.pyplot as plt\n",
    "import cv2\n",
    "import pandas as pd\n",
    "import os\n",
    "import scipy\n",
    "from scipy.ndimage.interpolation import rotate\n",
    "\n",
    "degree = 60\n",
    "degree_folder = glob.glob('./data/raw_data/{}/*'.format(str(degree)))\n",
    "output_loc = os.path.join('./data/rotate_data/'+str(degree))\n",
    "\n",
    "try:\n",
    "    os.mkdir(output_loc)\n",
    "except OSError:\n",
    "    pass\n",
    "\n",
    "img = cv2.imread(degree_folder[0], cv2.IMREAD_GRAYSCALE)\n",
    "img = rotate(img, degree , reshape=False)\n",
    "\n",
    "def mouse_click(event, x, y, flags, param):\n",
    "    global crack_tip_x, crack_tip_y\n",
    "    if event == cv2.EVENT_LBUTTONUP:\n",
    "        crack_tip_x, crack_tip_y = x, y\n",
    "        print('EVENT_LBUTTONUP: %d, %d' %(x, y))\n",
    "\n",
    "cv2.namedWindow('Click')\n",
    "cv2.imshow('Click', img)\n",
    "cv2.setMouseCallback('Click', mouse_click, img)\n",
    "cv2.waitKey()\n",
    "cv2.destroyAllWindows()\n",
    "\n",
    "### cutting parameter\n",
    "up, down, left, right = 50, 50, 20,80\n",
    "# crack_tip_x, crack_tip_y = 389, 499\n",
    "\n",
    "for file in degree_folder:\n",
    "    img = cv2.imread(file, cv2.IMREAD_GRAYSCALE)\n",
    "    img = rotate(img, degree , reshape=False)[crack_tip_y-up : crack_tip_y + down, crack_tip_x -left : crack_tip_x + right]\n",
    "    cv2.imwrite(output_loc+'/num_{}.jpg'.format(os.path.basename(file).split(\".\")[0]), img)\n"
   ]
  }
 ],
 "metadata": {
  "kernelspec": {
   "display_name": "Python 3",
   "language": "python",
   "name": "python3"
  },
  "language_info": {
   "codemirror_mode": {
    "name": "ipython",
    "version": 2
   },
   "file_extension": ".py",
   "mimetype": "text/x-python",
   "name": "python",
   "nbconvert_exporter": "python",
   "pygments_lexer": "ipython2",
   "version": "2.7.6"
  }
 },
 "nbformat": 4,
 "nbformat_minor": 0
}